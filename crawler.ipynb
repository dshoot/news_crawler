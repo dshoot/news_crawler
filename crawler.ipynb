{
 "cells": [
  {
   "cell_type": "code",
   "execution_count": 62,
   "id": "604b0bdc",
   "metadata": {},
   "outputs": [],
   "source": [
    "import requests\n",
    "import bs4\n",
    "import hashlib\n",
    "import os\n",
    "import json\n",
    "import base64\n",
    "\n",
    "from urllib.parse import urlparse\n",
    "from tqdm.notebook import tqdm"
   ]
  },
  {
   "cell_type": "code",
   "execution_count": 53,
   "id": "9e24f7bd",
   "metadata": {},
   "outputs": [],
   "source": [
    "def extract_all_links(page_soup, news_domain, site):\n",
    "    page_links = []\n",
    "    for link in page_soup.find_all('a'):\n",
    "        if link.get('href'):\n",
    "            if (news_domain in link.get('href'))\\\n",
    "                    and link.get('href').endswith('.html'):\n",
    "                link_url = link.get('href')\n",
    "                if link_url.startswith(news_domain):\n",
    "                    link_url = site + link_url\n",
    "                page_links.append(link_url)\n",
    "    return page_links"
   ]
  },
  {
   "cell_type": "code",
   "execution_count": 66,
   "id": "c339f304",
   "metadata": {},
   "outputs": [],
   "source": [
    "def extract_all_images(page_soup, news_domain, site):\n",
    "    page_images = []\n",
    "    for img in page_soup.find_all('img'):\n",
    "        if img.get('src'):\n",
    "            img_url = img.get('src')\n",
    "            if img_url.startswith(news_domain):\n",
    "                img_url = site + img_url\n",
    "            try:\n",
    "                if img_url.startswith('data:image/'): # already encoded\n",
    "                    page_images.append(img_url[img_url.find(','):])\n",
    "                else:\n",
    "                    img_resp = requests.get(img_url)\n",
    "                    page_images.append(str(base64.b64encode(img_resp.content), encoding='utf-8'))\n",
    "            except Exception as e:\n",
    "                print(f\"An exception[{e}] occurred during fetching of '{img_url}'\")            \n",
    "    return page_images"
   ]
  },
  {
   "cell_type": "code",
   "execution_count": 69,
   "id": "3dcf5c22",
   "metadata": {},
   "outputs": [],
   "source": [
    "def parse_page(url, news_domain, parent_path, save=True):\n",
    "    path = None\n",
    "    links = []\n",
    "    images = []\n",
    "    \n",
    "    resp = None\n",
    "    try:\n",
    "        resp = requests.get(url)\n",
    "    except Exception as e:\n",
    "        print(f\"An exception[{e}] occurred during fetching of '{url}'\")\n",
    "        return None, None\n",
    "    resp = requests.get(url)    \n",
    "    if resp.status_code != 200:\n",
    "        return None, None    \n",
    "    \n",
    "    soup = bs4.BeautifulSoup(resp.content, 'html.parser')\n",
    "    doc = {\n",
    "        'url': url,\n",
    "        'title': soup.title.text,\n",
    "        'hash': hashlib.md5(url.encode('utf-8')).hexdigest(),\n",
    "        'text': soup.get_text('\\n'),\n",
    "        'links': links,\n",
    "        'images': images\n",
    "    }\n",
    "    \n",
    "    scheme, netloc, path, params, query, fragment = urlparse(url)\n",
    "    site = f\"{scheme}://{netloc}\" if len(scheme) > 0 else netloc\n",
    "    links.extend(extract_all_links(soup, news_domain, site))\n",
    "    images.extend(extract_all_images(soup, news_domain, site))\n",
    "    \n",
    "    if save:\n",
    "        path = os.path.join(parent_path, doc['hash'])\n",
    "        if not os.path.exists(path):\n",
    "            os.makedirs(path)\n",
    "        doc_path = os.path.join(path, 'news.json')\n",
    "        doc_json = json.dumps(doc, indent=4)\n",
    "        with open(doc_path, 'w') as doc_file:\n",
    "            doc_file.write(doc_json)\n",
    "    return doc, path"
   ]
  },
  {
   "cell_type": "code",
   "execution_count": 46,
   "id": "c0797dd8",
   "metadata": {},
   "outputs": [],
   "source": [
    "def link_search(url, news_domain, parent_path, max_depth, max_amount, mode='dfs'):\n",
    "    queue = []\n",
    "    visited = dict()\n",
    "    queue.append((url, 0))\n",
    "    pbar = tqdm(total = len(queue))\n",
    "    while len(queue) > 0:\n",
    "        u, depth = queue.pop() if mode == 'dfs' else queue.pop(0)        \n",
    "        if u not in visited.keys():\n",
    "            doc, _ = parse_page(u, news_domain, parent_path)\n",
    "            pbar.update(1)\n",
    "            visited[u] = doc\n",
    "            if doc is not None:\n",
    "                new_depth = depth + 1\n",
    "                if (max_depth is None) or (new_depth < max_depth):\n",
    "                    new_links = [(l, new_depth) for l in doc['links']]\n",
    "                    if max_amount is not None:\n",
    "                        if len(visited) < max_amount:\n",
    "                            new_links = new_links[:max_amount-len(visited)]\n",
    "                        else:\n",
    "                            new_links = []\n",
    "                    queue.extend(new_links)\n",
    "                    pbar.total += len(new_links)\n",
    "                    pbar.refresh()\n",
    "        else:\n",
    "            pbar.update(1)\n",
    "    pbar.close()\n",
    "    return visited"
   ]
  },
  {
   "cell_type": "code",
   "execution_count": 59,
   "id": "077a0d63",
   "metadata": {},
   "outputs": [],
   "source": [
    "def crawl_news_site(mode='dfs', max_depth=5, news_path=\"news\", max_amount=None):\n",
    "    link_search('https://www.dailymail.co.uk/news/index.html', '/news/',\\\n",
    "                news_path, max_depth, max_amount, mode)"
   ]
  },
  {
   "cell_type": "code",
   "execution_count": null,
   "id": "468e2078",
   "metadata": {},
   "outputs": [
    {
     "data": {
      "application/vnd.jupyter.widget-view+json": {
       "model_id": "9066e43649ca47eaa327836416368068",
       "version_major": 2,
       "version_minor": 0
      },
      "text/plain": [
       "  0%|          | 0/1 [00:00<?, ?it/s]"
      ]
     },
     "metadata": {},
     "output_type": "display_data"
    },
    {
     "name": "stdout",
     "output_type": "stream",
     "text": [
      "An exception[Invalid URL '//i.dailymail.co.uk/i/furniture/standard_modules/video/icon_filmstrip.png': No scheme supplied. Perhaps you meant https:////i.dailymail.co.uk/i/furniture/standard_modules/video/icon_filmstrip.png?] occurred during fetching of '//i.dailymail.co.uk/i/furniture/standard_modules/video/icon_filmstrip.png'\n"
     ]
    }
   ],
   "source": [
    "crawl_news_site(max_depth=3)"
   ]
  },
  {
   "cell_type": "code",
   "execution_count": 61,
   "id": "a5bf2400",
   "metadata": {},
   "outputs": [
    {
     "data": {
      "application/vnd.jupyter.widget-view+json": {
       "model_id": "939a26e9e14b4f6ca227677257f846f8",
       "version_major": 2,
       "version_minor": 0
      },
      "text/plain": [
       "  0%|          | 0/1 [00:00<?, ?it/s]"
      ]
     },
     "metadata": {},
     "output_type": "display_data"
    }
   ],
   "source": [
    "crawl_news_site(max_depth=2, mode='bfs', news_path=\"news_bfs\")"
   ]
  }
 ],
 "metadata": {
  "kernelspec": {
   "display_name": "Python 3 (ipykernel)",
   "language": "python",
   "name": "python3"
  },
  "language_info": {
   "codemirror_mode": {
    "name": "ipython",
    "version": 3
   },
   "file_extension": ".py",
   "mimetype": "text/x-python",
   "name": "python",
   "nbconvert_exporter": "python",
   "pygments_lexer": "ipython3",
   "version": "3.11.4"
  }
 },
 "nbformat": 4,
 "nbformat_minor": 5
}
